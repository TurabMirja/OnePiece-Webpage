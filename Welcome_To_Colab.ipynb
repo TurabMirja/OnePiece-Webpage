{
  "cells": [
    {
      "cell_type": "markdown",
      "metadata": {
        "id": "view-in-github",
        "colab_type": "text"
      },
      "source": [
        "<a href=\"https://colab.research.google.com/github/TurabMirja/OnePiece-Webpage/blob/main/Welcome_To_Colab.ipynb\" target=\"_parent\"><img src=\"https://colab.research.google.com/assets/colab-badge.svg\" alt=\"Open In Colab\"/></a>"
      ]
    },
    {
      "cell_type": "markdown",
      "source": [
        "1. Break a list into chunks of size N in Python."
      ],
      "metadata": {
        "id": "tJcETIcgR9Wl"
      }
    },
    {
      "cell_type": "code",
      "source": [
        "def chunk_list(lst,n):\n",
        "  return [lst[i:i+n] for i in range(0,len(lst),n)]\n",
        "\n",
        "print(chunk_list([0,1,2,3,4,5,6,7,8],3))"
      ],
      "metadata": {
        "id": "IoDXekwZSDys",
        "outputId": "58e038b6-8baa-4f76-b88e-62cfbe7bd9c1",
        "colab": {
          "base_uri": "https://localhost:8080/"
        }
      },
      "execution_count": 6,
      "outputs": [
        {
          "output_type": "stream",
          "name": "stdout",
          "text": [
            "[[0, 1, 2], [3, 4, 5], [6, 7, 8]]\n"
          ]
        }
      ]
    },
    {
      "cell_type": "markdown",
      "source": [
        "2. Python program to find Cumulative sum of a list."
      ],
      "metadata": {
        "id": "PPRoSIalTrqK"
      }
    },
    {
      "cell_type": "code",
      "source": [
        "def cum_sum_list(lst):\n",
        "  result= []\n",
        "  total = 0\n",
        "  for num in lst:\n",
        "    total +=num\n",
        "    result.append(total)\n",
        "  return result\n",
        "\n",
        "numbers=[1,2,3,4,5,6]\n",
        "print(cum_sum_list(numbers))"
      ],
      "metadata": {
        "id": "OSixp_BPTsMD",
        "outputId": "daec03e5-411f-409a-e6aa-741265c5d8cb",
        "colab": {
          "base_uri": "https://localhost:8080/"
        }
      },
      "execution_count": 9,
      "outputs": [
        {
          "output_type": "stream",
          "name": "stdout",
          "text": [
            "[1, 3, 6, 10, 15, 21]\n"
          ]
        }
      ]
    },
    {
      "cell_type": "markdown",
      "source": [
        "3. Python | Program to print duplicates from a list of integers.\n"
      ],
      "metadata": {
        "id": "fmTNpp4aVafo"
      }
    },
    {
      "cell_type": "code",
      "source": [
        "def print_duplicates(lst):\n",
        "  seen=set()\n",
        "  duplicates=set()\n",
        "\n",
        "  for num in lst:\n",
        "    if num in seen:\n",
        "      duplicates.add(num)\n",
        "    else:\n",
        "      seen.add(num)\n",
        "  print(\"Duplicates: \",duplicates)\n",
        "\n",
        "print_duplicates([0,1,2,1,2,3,4,1,2,2,3,3,3,3,3])\n"
      ],
      "metadata": {
        "id": "PVfOGRsJVfL4",
        "outputId": "d8da198a-56cd-4137-a07b-5f27b0421995",
        "colab": {
          "base_uri": "https://localhost:8080/"
        }
      },
      "execution_count": 12,
      "outputs": [
        {
          "output_type": "stream",
          "name": "stdout",
          "text": [
            "Duplicates:  {1, 2, 3}\n"
          ]
        }
      ]
    },
    {
      "cell_type": "markdown",
      "source": [
        "4. Python program for reversing a List"
      ],
      "metadata": {
        "id": "5nbyKKMCXWKe"
      }
    },
    {
      "cell_type": "code",
      "source": [
        "def reverse_list(lst):\n",
        "  return lst[::-1]\n",
        "\n",
        "print(reverse_list([0,1,2,3,4,5]))"
      ],
      "metadata": {
        "id": "XTu7-zQCXXDO",
        "outputId": "20f389c0-c469-4b72-9547-158cb8240374",
        "colab": {
          "base_uri": "https://localhost:8080/"
        }
      },
      "execution_count": 14,
      "outputs": [
        {
          "output_type": "stream",
          "name": "stdout",
          "text": [
            "[5, 4, 3, 2, 1, 0]\n"
          ]
        }
      ]
    },
    {
      "cell_type": "markdown",
      "source": [
        "5. Python program to check if user given element exists in list or not."
      ],
      "metadata": {
        "id": "xBd2BgveXx5u"
      }
    },
    {
      "cell_type": "code",
      "source": [
        "def check_element(lst,element):\n",
        "  if element in lst:\n",
        "    print(f\"{element} exits in the lists\")\n",
        "  else:\n",
        "    print(f\"{element} does not exits in the lists\")\n",
        "\n",
        "check_element([0,1,2,3,4,5],3)\n",
        "check_element([0,1,2,3,4,5],89)\n",
        "\n"
      ],
      "metadata": {
        "id": "qxVZR0C3X1Lm",
        "outputId": "69f791b1-3ad2-4d26-c055-c3f54958a6d7",
        "colab": {
          "base_uri": "https://localhost:8080/"
        }
      },
      "execution_count": 16,
      "outputs": [
        {
          "output_type": "stream",
          "name": "stdout",
          "text": [
            "3 exits in the lists\n",
            "89 does not exits in the lists\n"
          ]
        }
      ]
    },
    {
      "cell_type": "markdown",
      "source": [
        "Python Program to Split the array and add the first part to the end."
      ],
      "metadata": {
        "id": "zVTrjdC_Y5t-"
      }
    },
    {
      "cell_type": "code",
      "source": [
        "def split_and_add(lst,split_index):\n",
        "  return lst[split_index:] + lst[:split_index]\n",
        "\n",
        "print(split_and_add([0,1,2,3,4,5],4))"
      ],
      "metadata": {
        "id": "fyHLr4lwY6ZN",
        "outputId": "61ea5153-02c0-4990-ee3b-47afeb7d706e",
        "colab": {
          "base_uri": "https://localhost:8080/"
        }
      },
      "execution_count": 21,
      "outputs": [
        {
          "output_type": "stream",
          "name": "stdout",
          "text": [
            "[4, 5, 0, 1, 2, 3]\n"
          ]
        }
      ]
    },
    {
      "cell_type": "markdown",
      "source": [
        "7. Python Program for Find reminder of array multiplication divided by n"
      ],
      "metadata": {
        "id": "G4vBDE6GZ_ID"
      }
    },
    {
      "cell_type": "code",
      "source": [
        "def find_remainder(lst,n):\n",
        "  result = 1\n",
        "  for num in lst:\n",
        "    result= (result*num)% n\n",
        "    return result\n",
        "\n",
        "print(find_remainder(60,n=7))"
      ],
      "metadata": {
        "id": "0e8FFx22aDvc",
        "outputId": "cac3a286-db65-4d80-be10-5a4f78329a5e",
        "colab": {
          "base_uri": "https://localhost:8080/"
        }
      },
      "execution_count": 27,
      "outputs": [
        {
          "output_type": "stream",
          "name": "stdout",
          "text": [
            "4\n"
          ]
        }
      ]
    }
  ],
  "metadata": {
    "colab": {
      "name": "Welcome To Colab",
      "toc_visible": true,
      "provenance": [],
      "include_colab_link": true
    },
    "kernelspec": {
      "display_name": "Python 3",
      "name": "python3"
    }
  },
  "nbformat": 4,
  "nbformat_minor": 0
}